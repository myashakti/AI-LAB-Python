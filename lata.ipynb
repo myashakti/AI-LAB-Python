{
  "nbformat": 4,
  "nbformat_minor": 0,
  "metadata": {
    "colab": {
      "name": "lata.ipynb",
      "provenance": [],
      "authorship_tag": "ABX9TyNgEmE43vRdcqfC+vlnfWFB",
      "include_colab_link": true
    },
    "kernelspec": {
      "name": "python3",
      "display_name": "Python 3"
    }
  },
  "cells": [
    {
      "cell_type": "markdown",
      "metadata": {
        "id": "view-in-github",
        "colab_type": "text"
      },
      "source": [
        "<a href=\"https://colab.research.google.com/github/myashakti/AI-LAB-Python/blob/main/lata.ipynb\" target=\"_parent\"><img src=\"https://colab.research.google.com/assets/colab-badge.svg\" alt=\"Open In Colab\"/></a>"
      ]
    },
    {
      "cell_type": "markdown",
      "metadata": {
        "id": "eDfnckA-uJ5w"
      },
      "source": [
        "lata basic\n",
        "\n",
        "\n"
      ]
    },
    {
      "cell_type": "code",
      "metadata": {
        "id": "g9fWjearuRCK",
        "outputId": "6b30a937-a355-4344-abaf-ec41fb6de08d",
        "colab": {
          "base_uri": "https://localhost:8080/"
        }
      },
      "source": [
        "print(\"Yeasin\")"
      ],
      "execution_count": 1,
      "outputs": [
        {
          "output_type": "stream",
          "text": [
            "Yeasin\n"
          ],
          "name": "stdout"
        }
      ]
    }
  ]
}