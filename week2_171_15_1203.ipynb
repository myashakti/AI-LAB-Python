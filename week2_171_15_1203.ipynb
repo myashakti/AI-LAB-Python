{
  "nbformat": 4,
  "nbformat_minor": 0,
  "metadata": {
    "colab": {
      "name": "week2_171-15-1203.ipynb",
      "provenance": [],
      "authorship_tag": "ABX9TyMNAT1EYlOZJMkF7z2tjZ6q",
      "include_colab_link": true
    },
    "kernelspec": {
      "name": "python3",
      "display_name": "Python 3"
    }
  },
  "cells": [
    {
      "cell_type": "markdown",
      "metadata": {
        "id": "view-in-github",
        "colab_type": "text"
      },
      "source": [
        "<a href=\"https://colab.research.google.com/github/myashakti/AI-LAB-Python/blob/main/week2_171_15_1203.ipynb\" target=\"_parent\"><img src=\"https://colab.research.google.com/assets/colab-badge.svg\" alt=\"Open In Colab\"/></a>"
      ]
    },
    {
      "cell_type": "code",
      "metadata": {
        "id": "G_kMcMWPd50H",
        "outputId": "b6b55cc1-cfa0-43ca-8123-261cc1b96eba",
        "colab": {
          "base_uri": "https://localhost:8080/",
          "height": 136
        }
      },
      "source": [
        "print(\"Hi, I am semi-colon. Do you miss me?\")\n",
        "print(\"Let me know if you miss me or not. \")\n",
        "s=input()\n",
        "\n",
        "a=10\n",
        "b=21\n",
        "print(max(a,b))\n",
        "print(min(a,b))\n",
        "\n",
        "c=10.4\n",
        "d=int(c)\n",
        "print(d)\n",
        "\n",
        "e=\"python\"\n",
        "print(type(e))"
      ],
      "execution_count": 1,
      "outputs": [
        {
          "output_type": "stream",
          "text": [
            "Hi, I am semi-colon. Do you miss me?\n",
            "Let me know if you miss me or not. \n",
            "yes\n",
            "21\n",
            "10\n",
            "10\n",
            "<class 'str'>\n"
          ],
          "name": "stdout"
        }
      ]
    },
    {
      "cell_type": "code",
      "metadata": {
        "id": "zzCMzlsFeDMc",
        "outputId": "86f955fe-d2e4-4320-dc23-564b0f77f4e8",
        "colab": {
          "base_uri": "https://localhost:8080/",
          "height": 68
        }
      },
      "source": [
        "def add(a, b):\n",
        "    c=a+b\n",
        "    return c\n",
        "\n",
        "a=int(input(\"Enter a number: \"))\n",
        "b=int(input(\"Enter a number: \"))\n",
        "d=add(a,b)\n",
        "print(\"The sum is\", d)"
      ],
      "execution_count": 2,
      "outputs": [
        {
          "output_type": "stream",
          "text": [
            "Enter a number: 10\n",
            "Enter a number: 20\n",
            "The sum is 30\n"
          ],
          "name": "stdout"
        }
      ]
    }
  ]
}