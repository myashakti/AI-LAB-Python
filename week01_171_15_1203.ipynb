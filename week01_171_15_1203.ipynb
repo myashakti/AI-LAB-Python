{
  "nbformat": 4,
  "nbformat_minor": 0,
  "metadata": {
    "colab": {
      "name": "week01_171-15-1203.ipynb",
      "provenance": [],
      "collapsed_sections": [],
      "authorship_tag": "ABX9TyNdg2l8SYDGUxo/KvdYSN0u",
      "include_colab_link": true
    },
    "kernelspec": {
      "name": "python3",
      "display_name": "Python 3"
    }
  },
  "cells": [
    {
      "cell_type": "markdown",
      "metadata": {
        "id": "view-in-github",
        "colab_type": "text"
      },
      "source": [
        "<a href=\"https://colab.research.google.com/github/myashakti/AI-LAB-Python/blob/main/week01_171_15_1203.ipynb\" target=\"_parent\"><img src=\"https://colab.research.google.com/assets/colab-badge.svg\" alt=\"Open In Colab\"/></a>"
      ]
    },
    {
      "cell_type": "code",
      "metadata": {
        "id": "qHswhFpb1oqn"
      },
      "source": [
        ""
      ],
      "execution_count": null,
      "outputs": []
    },
    {
      "cell_type": "code",
      "metadata": {
        "id": "FZgQDOzd13KM",
        "outputId": "5928f296-1299-45f0-b039-c66ccd0bb13e",
        "colab": {
          "base_uri": "https://localhost:8080/",
          "height": 68
        }
      },
      "source": [
        "a=5\n",
        "b=7\n",
        "print(a+b)\n",
        "total = a+b\n",
        "print(total)\n",
        "x = \"Shakti\"\n",
        "y = \"Lata\"\n",
        "print(x , y)"
      ],
      "execution_count": 8,
      "outputs": [
        {
          "output_type": "stream",
          "text": [
            "12\n",
            "12\n",
            "Shakti Lata\n"
          ],
          "name": "stdout"
        }
      ]
    }
  ]
}